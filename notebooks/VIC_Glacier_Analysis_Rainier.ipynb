{
 "metadata": {
  "name": ""
 },
 "nbformat": 3,
 "nbformat_minor": 0,
 "worksheets": [
  {
   "cells": [
    {
     "cell_type": "code",
     "collapsed": false,
     "input": [
      "import os\n",
      "import re\n",
      "import numpy as np\n",
      "import pandas as pd"
     ],
     "language": "python",
     "metadata": {},
     "outputs": []
    },
    {
     "cell_type": "code",
     "collapsed": false,
     "input": [
      "basedir = '../rainier/outputs/'\n",
      "sims = ['vic.4.1.2.k_rainier',\n",
      "        'vic.4.2.dev_rainier', \n",
      "        'vic.4.2.dev_glacier_off_rainier', \n",
      "        'vic.4.2.dev_scaling_on_rainier']\n",
      "outfiles = ['fluxes_46.84375_-121.78125.txt',\n",
      "            'snow_46.84375_-121.78125.txt',\n",
      "            'snowband_46.84375_-121.78125.txt']"
     ],
     "language": "python",
     "metadata": {},
     "outputs": []
    },
    {
     "cell_type": "code",
     "collapsed": false,
     "input": [
      "data = {}\n",
      "for sim in sims:\n",
      "    for outfile in outfiles:\n",
      "        vicfile = os.path.join(basedir, sim, outfile)\n",
      "        header = {}\n",
      "        with open(vicfile) as f:\n",
      "            for i in xrange(6):\n",
      "                s = f.readline()\n",
      "                l = s.strip(' # ').strip('\\n').split(': ', 1)\n",
      "                if len(l) < 2:\n",
      "                    cols = l[0].strip(' ').split('\\t')\n",
      "                    header['cols'] = [col.strip() for col in cols]\n",
      "                else:\n",
      "                    header[l[0]] = l[1]\n",
      "            df = pd.read_table(f, names=header['cols'], parse_dates=[[0, 1, 2]], index_col=0)\n",
      "            df.index.name = 'date'\n",
      "        \n",
      "        if sim in data:\n",
      "            data[sim] = data[sim].join(df)\n",
      "        else:\n",
      "            data[sim] = df"
     ],
     "language": "python",
     "metadata": {},
     "outputs": []
    },
    {
     "cell_type": "code",
     "collapsed": false,
     "input": [
      "f, axarr = plt.subplots(nrows=2, ncols=2, sharex=True, sharey=True, figsize=(15, 10))\n",
      "for i, sim in enumerate(sims):\n",
      "    axind = np.unravel_index(i, axarr.shape)\n",
      "    sca(axarr[axind])\n",
      "#     data[sim]['OUT_SWE'].plot()\n",
      "    for band in xrange(5):\n",
      "        var = 'OUT_SWE_BAND_{band}'.format(band=band)\n",
      "        data[sim][var][\"1948-01-01\":\"1955-10-01\"].plot()\n",
      "    title(sim)\n",
      "    ylabel('SWE (mm)')    \n",
      "#     ylim([0, 10000])\n",
      "    \n",
      "sca(axarr[-1, -1])\n",
      "legend(loc='center left', bbox_to_anchor=(1.5, .85))\n"
     ],
     "language": "python",
     "metadata": {},
     "outputs": []
    },
    {
     "cell_type": "markdown",
     "metadata": {},
     "source": [
      "has_glacier = []\n",
      "for sim, df in data.iteritems():\n",
      "    if 'OUT_IWE_BAND_0' in df:\n",
      "        has_glacier.append(sim)\n",
      "\n",
      "f, axarr = plt.subplots(nrows=2, ncols=1, sharex=True, sharey=True, figsize=(10, 10))\n",
      "for i, sim in enumerate(has_glacier):\n",
      "    axind = np.unravel_index(i, axarr.shape)\n",
      "    sca(axarr[axind])    \n",
      "    for band in xrange(8):\n",
      "        var = 'OUT_IWE_BAND_{band}'.format(band=band)\n",
      "        data[sim][var].plot()\n",
      "    title(sim)\n",
      "    ylabel('SWE (mm)')            \n",
      "legend(loc='center left', bbox_to_anchor=(1, 0.65))\n"
     ]
    },
    {
     "cell_type": "code",
     "collapsed": false,
     "input": [
      "data_mean = np.zeros_like(data[sim]['OUT_PREC'].values)\n",
      "i = 0.0\n",
      "for sim in sims:\n",
      "    i += 1.0\n",
      "    data_mean += data[sim]['OUT_PREC'].values\n",
      "data_mean /= i\n",
      "\n",
      "for sim in sims:\n",
      "    data[sim]['OUT_PREC'].plot()\n",
      "\n",
      "figure(2)\n",
      "for sim in sims:\n",
      "    d = data[sim]['OUT_PREC'].values - data_mean\n",
      "    plot(d)\n"
     ],
     "language": "python",
     "metadata": {},
     "outputs": []
    },
    {
     "cell_type": "code",
     "collapsed": false,
     "input": [
      "data_mean = np.zeros_like(data[sim]['OUT_AIR_TEMP'].values)\n",
      "i = 0.0\n",
      "for sim in sims:\n",
      "    i += 1.0\n",
      "    data_mean += data[sim]['OUT_AIR_TEMP'].values\n",
      "data_mean /= i\n",
      "\n",
      "for sim in sims:\n",
      "    data[sim]['OUT_AIR_TEMP'].plot()\n",
      "\n",
      "figure(2)\n",
      "for sim in sims:\n",
      "    d = data[sim]['OUT_AIR_TEMP'].values - data_mean\n",
      "    plot(d)\n"
     ],
     "language": "python",
     "metadata": {},
     "outputs": []
    },
    {
     "cell_type": "code",
     "collapsed": false,
     "input": [
      "data_mean = np.zeros_like(data[sim]['OUT_SHORTWAVE'].values)\n",
      "i = 0.0\n",
      "for sim in sims:\n",
      "    i += 1.0\n",
      "    data_mean += data[sim]['OUT_SHORTWAVE'].values\n",
      "data_mean /= i\n",
      "\n",
      "for sim in sims:\n",
      "    data[sim]['OUT_SHORTWAVE'].plot()\n",
      "\n",
      "figure(2)\n",
      "for sim in sims:\n",
      "    d = data[sim]['OUT_SHORTWAVE'].values - data_mean\n",
      "    plot(d)\n"
     ],
     "language": "python",
     "metadata": {},
     "outputs": []
    },
    {
     "cell_type": "code",
     "collapsed": false,
     "input": [
      "data_mean = np.zeros_like(data[sim]['OUT_LONGWAVE'].values)\n",
      "i = 0.0\n",
      "for sim in sims:\n",
      "    i += 1.0\n",
      "    data_mean += data[sim]['OUT_LONGWAVE'].values\n",
      "data_mean /= i\n",
      "\n",
      "for sim in sims:\n",
      "    data[sim]['OUT_LONGWAVE'].plot()\n",
      "\n",
      "figure(2)\n",
      "for sim in sims:\n",
      "    d = data[sim]['OUT_LONGWAVE'].values - data_mean\n",
      "    plot(d)"
     ],
     "language": "python",
     "metadata": {},
     "outputs": []
    },
    {
     "cell_type": "markdown",
     "metadata": {},
     "source": [
      "for sim in sims:\n",
      "    try:\n",
      "        data[sim]['OUT_RUNOFF'].plot(label=sim)\n",
      "    except Exception as e:\n",
      "        print('Unable to plot {}'.format(sim))\n",
      "        print e\n",
      "        pass\n",
      "legend()"
     ]
    }
   ],
   "metadata": {}
  }
 ]
}